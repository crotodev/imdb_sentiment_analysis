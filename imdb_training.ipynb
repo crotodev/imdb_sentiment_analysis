{
 "cells": [
  {
   "cell_type": "code",
   "execution_count": 1,
   "id": "initial_id",
   "metadata": {
    "ExecuteTime": {
     "end_time": "2023-11-29T19:03:50.340532Z",
     "start_time": "2023-11-29T19:03:45.740096Z"
    }
   },
   "outputs": [
    {
     "name": "stderr",
     "output_type": "stream",
     "text": [
      "Found cached dataset imdb (/Users/chris-rotondo/.cache/huggingface/datasets/imdb/plain_text/1.0.0/d613c88cf8fa3bab83b4ded3713f1f74830d1100e171db75bbddb80b3345c9c0)\n"
     ]
    },
    {
     "data": {
      "text/plain": "  0%|          | 0/3 [00:00<?, ?it/s]",
      "application/vnd.jupyter.widget-view+json": {
       "version_major": 2,
       "version_minor": 0,
       "model_id": "315a9a6b49d54d629123733c237ede03"
      }
     },
     "metadata": {},
     "output_type": "display_data"
    }
   ],
   "source": [
    "from datasets import load_dataset\n",
    "\n",
    "dataset = load_dataset(\"imdb\")[\"train\"].train_test_split(test_size=0.05, train_size=0.1)"
   ]
  },
  {
   "cell_type": "code",
   "execution_count": 2,
   "outputs": [
    {
     "data": {
      "text/plain": "                                                   text  label\n0     First off...with names like Fred Olen Ray, Bri...      0\n1     John Huston's Wise Blood was a more horrifying...      0\n2     The only reason i am bothering to comment on t...      0\n3     .......Playing Kaddiddlehopper, Col San Fernan...      1\n4     Well let me go say this because i love history...      1\n...                                                 ...    ...\n1245  This \"film\" is the culmination of everything t...      0\n1246  It's official, folks -- Hou Hsiao-Hsien doesn'...      0\n1247  Astaire and Rogers at the height of their popu...      1\n1248  Love is overwhelming... In all it's manifestat...      1\n1249  Liongate has yet to prove itself. Every single...      0\n\n[1250 rows x 2 columns]",
      "text/html": "<div>\n<style scoped>\n    .dataframe tbody tr th:only-of-type {\n        vertical-align: middle;\n    }\n\n    .dataframe tbody tr th {\n        vertical-align: top;\n    }\n\n    .dataframe thead th {\n        text-align: right;\n    }\n</style>\n<table border=\"1\" class=\"dataframe\">\n  <thead>\n    <tr style=\"text-align: right;\">\n      <th></th>\n      <th>text</th>\n      <th>label</th>\n    </tr>\n  </thead>\n  <tbody>\n    <tr>\n      <th>0</th>\n      <td>First off...with names like Fred Olen Ray, Bri...</td>\n      <td>0</td>\n    </tr>\n    <tr>\n      <th>1</th>\n      <td>John Huston's Wise Blood was a more horrifying...</td>\n      <td>0</td>\n    </tr>\n    <tr>\n      <th>2</th>\n      <td>The only reason i am bothering to comment on t...</td>\n      <td>0</td>\n    </tr>\n    <tr>\n      <th>3</th>\n      <td>.......Playing Kaddiddlehopper, Col San Fernan...</td>\n      <td>1</td>\n    </tr>\n    <tr>\n      <th>4</th>\n      <td>Well let me go say this because i love history...</td>\n      <td>1</td>\n    </tr>\n    <tr>\n      <th>...</th>\n      <td>...</td>\n      <td>...</td>\n    </tr>\n    <tr>\n      <th>1245</th>\n      <td>This \"film\" is the culmination of everything t...</td>\n      <td>0</td>\n    </tr>\n    <tr>\n      <th>1246</th>\n      <td>It's official, folks -- Hou Hsiao-Hsien doesn'...</td>\n      <td>0</td>\n    </tr>\n    <tr>\n      <th>1247</th>\n      <td>Astaire and Rogers at the height of their popu...</td>\n      <td>1</td>\n    </tr>\n    <tr>\n      <th>1248</th>\n      <td>Love is overwhelming... In all it's manifestat...</td>\n      <td>1</td>\n    </tr>\n    <tr>\n      <th>1249</th>\n      <td>Liongate has yet to prove itself. Every single...</td>\n      <td>0</td>\n    </tr>\n  </tbody>\n</table>\n<p>1250 rows × 2 columns</p>\n</div>"
     },
     "execution_count": 2,
     "metadata": {},
     "output_type": "execute_result"
    }
   ],
   "source": [
    "dataset[\"test\"].to_pandas()"
   ],
   "metadata": {
    "collapsed": false,
    "ExecuteTime": {
     "end_time": "2023-11-29T19:03:50.764781Z",
     "start_time": "2023-11-29T19:03:50.286345Z"
    }
   },
   "id": "351c9ac07b566f6b"
  },
  {
   "cell_type": "code",
   "execution_count": 3,
   "id": "65ba8995befbc2a3",
   "metadata": {
    "ExecuteTime": {
     "end_time": "2023-11-29T19:03:55.786034Z",
     "start_time": "2023-11-29T19:03:50.768982Z"
    }
   },
   "outputs": [
    {
     "data": {
      "text/plain": "Map:   0%|          | 0/2500 [00:00<?, ? examples/s]",
      "application/vnd.jupyter.widget-view+json": {
       "version_major": 2,
       "version_minor": 0,
       "model_id": "66800c5176f840f18c314e47a5ff621e"
      }
     },
     "metadata": {},
     "output_type": "display_data"
    },
    {
     "data": {
      "text/plain": "Map:   0%|          | 0/1250 [00:00<?, ? examples/s]",
      "application/vnd.jupyter.widget-view+json": {
       "version_major": 2,
       "version_minor": 0,
       "model_id": "d05e597920fe4d2396efb56ef7a81ebd"
      }
     },
     "metadata": {},
     "output_type": "display_data"
    }
   ],
   "source": [
    "from transformers import AutoTokenizer\n",
    "\n",
    "tokenizer = AutoTokenizer.from_pretrained(\"distilbert-base-uncased\")\n",
    "\n",
    "def tokenize(data):\n",
    "    return tokenizer(data[\"text\"], padding=True, truncation=True, max_length=512)\n",
    "\n",
    "tokenized_datasets = dataset.map(tokenize, batched=True)"
   ]
  },
  {
   "cell_type": "code",
   "execution_count": 4,
   "id": "1c82438265ba2b58",
   "metadata": {
    "ExecuteTime": {
     "end_time": "2023-11-29T19:04:03.221292Z",
     "start_time": "2023-11-29T19:03:55.776176Z"
    }
   },
   "outputs": [],
   "source": [
    "import numpy as np\n",
    "import evaluate\n",
    "\n",
    "metric = evaluate.load(\"accuracy\")\n",
    "\n",
    "def compute_metrics(eval_pred):\n",
    "    logits, labels = eval_pred\n",
    "    predictions = np.argmax(logits, axis=-1)\n",
    "    return metric.compute(predictions=predictions, references=labels)"
   ]
  },
  {
   "cell_type": "code",
   "execution_count": 5,
   "id": "dd019a8656c5c8e7",
   "metadata": {
    "ExecuteTime": {
     "end_time": "2023-11-29T19:04:05.499854Z",
     "start_time": "2023-11-29T19:04:03.229445Z"
    }
   },
   "outputs": [
    {
     "name": "stderr",
     "output_type": "stream",
     "text": [
      "Some weights of DistilBertForSequenceClassification were not initialized from the model checkpoint at distilbert-base-uncased and are newly initialized: ['pre_classifier.bias', 'classifier.weight', 'pre_classifier.weight', 'classifier.bias']\n",
      "You should probably TRAIN this model on a down-stream task to be able to use it for predictions and inference.\n"
     ]
    }
   ],
   "source": [
    "from transformers import AutoModelForSequenceClassification, Trainer, TrainingArguments\n",
    "\n",
    "model = AutoModelForSequenceClassification.from_pretrained(\"distilbert-base-uncased\", num_labels=2)\n",
    "\n",
    "training_args = TrainingArguments(\n",
    "    per_device_train_batch_size=4,\n",
    "    per_device_eval_batch_size=4,\n",
    "    num_train_epochs=1,\n",
    "    evaluation_strategy=\"steps\", \n",
    "    eval_steps=51,             \n",
    "    logging_dir=\"./imdb_logs\",\n",
    "    logging_steps=1,          \n",
    "    save_steps=50,\n",
    "    output_dir=\"./imdb_results\",\n",
    ")\n",
    "\n",
    "trainer = Trainer(\n",
    "    model=model,\n",
    "    args=training_args,\n",
    "    train_dataset=tokenized_datasets[\"train\"],\n",
    "    eval_dataset=tokenized_datasets[\"test\"],\n",
    "    tokenizer=tokenizer,\n",
    "    compute_metrics=compute_metrics\n",
    ")"
   ]
  },
  {
   "cell_type": "code",
   "execution_count": 6,
   "id": "2a792ba586876b0",
   "metadata": {
    "ExecuteTime": {
     "end_time": "2023-11-29T19:42:40.102508Z",
     "start_time": "2023-11-29T19:04:05.502826Z"
    }
   },
   "outputs": [
    {
     "name": "stderr",
     "output_type": "stream",
     "text": [
      "You're using a DistilBertTokenizerFast tokenizer. Please note that with a fast tokenizer, using the `__call__` method is faster than using a method to encode the text followed by a call to the `pad` method to get a padded encoding.\n"
     ]
    },
    {
     "data": {
      "text/plain": "<IPython.core.display.HTML object>",
      "text/html": "\n    <div>\n      \n      <progress value='552' max='625' style='width:300px; height:20px; vertical-align: middle;'></progress>\n      [552/625 : < :, Epoch 0.88/1]\n    </div>\n    <table border=\"1\" class=\"dataframe\">\n  <thead>\n <tr style=\"text-align: left;\">\n      <th>Step</th>\n      <th>Training Loss</th>\n      <th>Validation Loss</th>\n    </tr>\n  </thead>\n  <tbody>\n  </tbody>\n</table><p>"
     },
     "metadata": {},
     "output_type": "display_data"
    },
    {
     "data": {
      "text/plain": "TrainOutput(global_step=625, training_loss=0.05222286228984594, metrics={'train_runtime': 2312.5605, 'train_samples_per_second': 1.081, 'train_steps_per_second': 0.27, 'total_flos': 331168496640000.0, 'train_loss': 0.05222286228984594, 'epoch': 1.0})"
     },
     "execution_count": 6,
     "metadata": {},
     "output_type": "execute_result"
    }
   ],
   "source": [
    "trainer.train(resume_from_checkpoint=True) "
   ]
  },
  {
   "cell_type": "code",
   "execution_count": 7,
   "outputs": [
    {
     "data": {
      "text/plain": "('./sentiment_pos_neg/tokenizer_config.json',\n './sentiment_pos_neg/special_tokens_map.json',\n './sentiment_pos_neg/vocab.txt',\n './sentiment_pos_neg/added_tokens.json',\n './sentiment_pos_neg/tokenizer.json')"
     },
     "execution_count": 7,
     "metadata": {},
     "output_type": "execute_result"
    }
   ],
   "source": [
    "model.save_pretrained(\"./imdb-sentiment\")\n",
    "tokenizer.save_pretrained(\"./imdb-sentiment_pos_neg\")"
   ],
   "metadata": {
    "collapsed": false,
    "ExecuteTime": {
     "end_time": "2023-11-29T19:42:41.766133Z",
     "start_time": "2023-11-29T19:42:40.001680Z"
    }
   },
   "id": "e297efc55cdb9b18"
  },
  {
   "cell_type": "code",
   "execution_count": null,
   "outputs": [],
   "source": [],
   "metadata": {
    "collapsed": false
   },
   "id": "85cabd1ae176a09f"
  }
 ],
 "metadata": {
  "kernelspec": {
   "display_name": "Python 3 (ipykernel)",
   "language": "python",
   "name": "python3"
  },
  "language_info": {
   "codemirror_mode": {
    "name": "ipython",
    "version": 3
   },
   "file_extension": ".py",
   "mimetype": "text/x-python",
   "name": "python",
   "nbconvert_exporter": "python",
   "pygments_lexer": "ipython3",
   "version": "3.11.5"
  }
 },
 "nbformat": 4,
 "nbformat_minor": 5
}
